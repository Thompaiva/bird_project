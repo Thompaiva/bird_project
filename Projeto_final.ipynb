{
  "nbformat": 4,
  "nbformat_minor": 0,
  "metadata": {
    "colab": {
      "provenance": [],
      "machine_shape": "hm",
      "gpuType": "T4",
      "authorship_tag": "ABX9TyMgHeFlkAufgn55LLPwa9+B",
      "include_colab_link": true
    },
    "kernelspec": {
      "name": "python3",
      "display_name": "Python 3"
    },
    "language_info": {
      "name": "python"
    },
    "accelerator": "GPU"
  },
  "cells": [
    {
      "cell_type": "markdown",
      "metadata": {
        "id": "view-in-github",
        "colab_type": "text"
      },
      "source": [
        "<a href=\"https://colab.research.google.com/github/Thompaiva/bird_project/blob/main/Projeto_final.ipynb\" target=\"_parent\"><img src=\"https://colab.research.google.com/assets/colab-badge.svg\" alt=\"Open In Colab\"/></a>"
      ]
    },
    {
      "cell_type": "code",
      "execution_count": null,
      "metadata": {
        "id": "SQbiqlXq7PUa"
      },
      "outputs": [],
      "source": [
        "from google.colab import drive\n",
        "import numpy as np\n",
        "import pandas as pd\n",
        "import matplotlib.pyplot as plt\n",
        "import tensorflow as tf\n",
        "import os\n",
        "\n",
        "from tensorflow.keras.preprocessing.image import ImageDataGenerator\n",
        "from tensorflow.keras.applications.inception_v3 import InceptionV3\n",
        "from tensorflow.keras.layers import Dense, GlobalAveragePooling2D, Conv2D, MaxPooling2D, Flatten, Activation, BatchNormalization, Dropout\n",
        "from tensorflow.keras.models import Model\n",
        "from tensorflow.keras.models import Sequential\n",
        "from tensorflow.keras.optimizers import Adam"
      ]
    },
    {
      "cell_type": "code",
      "source": [
        "from tensorflow import keras\n",
        "from keras.layers import Conv2D, Dropout, Flatten, Dense, MaxPooling2D, Activation, BatchNormalization, AveragePooling2D, Add, ReLU"
      ],
      "metadata": {
        "id": "mA7GFhMy3JaV"
      },
      "execution_count": null,
      "outputs": []
    },
    {
      "cell_type": "code",
      "source": [
        "drive.mount(\"/content/drive\")"
      ],
      "metadata": {
        "colab": {
          "base_uri": "https://localhost:8080/"
        },
        "id": "GMQ7w2o8GrLL",
        "outputId": "2826dd74-62a8-48ee-9e71-3038cbd3b39d"
      },
      "execution_count": null,
      "outputs": [
        {
          "output_type": "stream",
          "name": "stdout",
          "text": [
            "Mounted at /content/drive\n"
          ]
        }
      ]
    },
    {
      "cell_type": "code",
      "source": [
        "import zipfile\n",
        "\n",
        "!mkdir \"data\"\n",
        "with zipfile.ZipFile('/content/drive/MyDrive/iron hack final project/archive (1).zip', 'r') as zip_ref:\n",
        "    zip_ref.extractall(\"data\")"
      ],
      "metadata": {
        "id": "nD0i8yKQvlsL"
      },
      "execution_count": null,
      "outputs": []
    },
    {
      "cell_type": "code",
      "source": [
        "batch_size = 32\n",
        "img_height = 224\n",
        "img_width = 224\n",
        "image_size = (224, 224, 3)\n",
        "num_classes = 525\n",
        "data_dir = \"/content/data/train\""
      ],
      "metadata": {
        "id": "EgIhg3WCwcwA"
      },
      "execution_count": null,
      "outputs": []
    },
    {
      "cell_type": "code",
      "source": [
        "train_ds, val_ds = tf.keras.utils.image_dataset_from_directory(\n",
        "    data_dir,\n",
        "    validation_split=0.2,\n",
        "    subset=\"both\",\n",
        "    seed=42,\n",
        "    image_size=(299, 299),\n",
        "    batch_size=batch_size,\n",
        ")"
      ],
      "metadata": {
        "colab": {
          "base_uri": "https://localhost:8080/"
        },
        "id": "Jugbxu-5xCrI",
        "outputId": "67f08961-5e5c-476c-95d1-94234f3ad782"
      },
      "execution_count": null,
      "outputs": [
        {
          "output_type": "stream",
          "name": "stdout",
          "text": [
            "Found 84635 files belonging to 525 classes.\n",
            "Using 67708 files for training.\n",
            "Using 16927 files for validation.\n"
          ]
        }
      ]
    },
    {
      "cell_type": "code",
      "source": [
        "AUTOTUNE = tf.data.AUTOTUNE\n",
        "train_ds = train_ds.prefetch(buffer_size=AUTOTUNE).cache()\n",
        "val_ds = val_ds.prefetch(buffer_size=AUTOTUNE).cache()"
      ],
      "metadata": {
        "id": "A62rt9otxCvq"
      },
      "execution_count": null,
      "outputs": []
    },
    {
      "cell_type": "markdown",
      "source": [
        "# MODELO SIMPLES"
      ],
      "metadata": {
        "id": "0-b1Z8peZ2lY"
      }
    },
    {
      "cell_type": "code",
      "source": [
        "model = Sequential()\n",
        "\n",
        "\n",
        "model.add(Conv2D(32, (3, 3), activation='relu', input_shape=(img_height, img_width, 3)))\n",
        "model.add(MaxPooling2D((2, 2)))\n",
        "\n",
        "model.add(Conv2D(64, (3, 3), activation='relu'))\n",
        "model.add(MaxPooling2D((2, 2)))\n",
        "\n",
        "model.add(Conv2D(128, (3, 3), activation='relu'))\n",
        "model.add(MaxPooling2D((2, 2)))\n",
        "\n",
        "model.add(Conv2D(128, (3, 3), activation='relu'))\n",
        "model.add(MaxPooling2D((2, 2)))\n",
        "\n",
        "model.add(Flatten())\n",
        "\n",
        "# Adicione camadas totalmente conectadas\n",
        "model.add(Dense(512, activation='relu'))\n",
        "model.add(Dropout(0.4))\n",
        "model.add(Dense(num_classes, activation='softmax'))"
      ],
      "metadata": {
        "id": "IjRWnAhkxC1G"
      },
      "execution_count": null,
      "outputs": []
    },
    {
      "cell_type": "code",
      "source": [
        "model.compile(optimizer='adam', loss='sparse_categorical_crossentropy', metrics=['accuracy'])"
      ],
      "metadata": {
        "id": "-2eLmNdQyCev"
      },
      "execution_count": null,
      "outputs": []
    },
    {
      "cell_type": "code",
      "source": [
        "model.summary()"
      ],
      "metadata": {
        "colab": {
          "base_uri": "https://localhost:8080/"
        },
        "id": "1op3IqJJ5vgI",
        "outputId": "032d508e-cf97-4e5a-ef25-67d0ea1f5f97"
      },
      "execution_count": null,
      "outputs": [
        {
          "output_type": "stream",
          "name": "stdout",
          "text": [
            "Model: \"sequential\"\n",
            "_________________________________________________________________\n",
            " Layer (type)                Output Shape              Param #   \n",
            "=================================================================\n",
            " conv2d (Conv2D)             (None, 222, 222, 32)      896       \n",
            "                                                                 \n",
            " max_pooling2d (MaxPooling2D  (None, 111, 111, 32)     0         \n",
            " )                                                               \n",
            "                                                                 \n",
            " conv2d_1 (Conv2D)           (None, 109, 109, 64)      18496     \n",
            "                                                                 \n",
            " max_pooling2d_1 (MaxPooling  (None, 54, 54, 64)       0         \n",
            " 2D)                                                             \n",
            "                                                                 \n",
            " conv2d_2 (Conv2D)           (None, 52, 52, 128)       73856     \n",
            "                                                                 \n",
            " max_pooling2d_2 (MaxPooling  (None, 26, 26, 128)      0         \n",
            " 2D)                                                             \n",
            "                                                                 \n",
            " conv2d_3 (Conv2D)           (None, 24, 24, 128)       147584    \n",
            "                                                                 \n",
            " max_pooling2d_3 (MaxPooling  (None, 12, 12, 128)      0         \n",
            " 2D)                                                             \n",
            "                                                                 \n",
            " flatten (Flatten)           (None, 18432)             0         \n",
            "                                                                 \n",
            " dense (Dense)               (None, 512)               9437696   \n",
            "                                                                 \n",
            " dropout (Dropout)           (None, 512)               0         \n",
            "                                                                 \n",
            " dense_1 (Dense)             (None, 525)               269325    \n",
            "                                                                 \n",
            "=================================================================\n",
            "Total params: 9,947,853\n",
            "Trainable params: 9,947,853\n",
            "Non-trainable params: 0\n",
            "_________________________________________________________________\n"
          ]
        }
      ]
    },
    {
      "cell_type": "code",
      "source": [
        "model.fit(train_ds, epochs=50, validation_data=val_ds)"
      ],
      "metadata": {
        "colab": {
          "base_uri": "https://localhost:8080/",
          "height": 615
        },
        "id": "xcqkeCHdyChP",
        "outputId": "8d681d74-13a6-48a3-e6b0-1bf422d16356"
      },
      "execution_count": null,
      "outputs": [
        {
          "output_type": "stream",
          "name": "stdout",
          "text": [
            "Epoch 1/50\n",
            "2116/2116 [==============================] - 34s 15ms/step - loss: 6.3394 - accuracy: 0.0032 - val_loss: 6.2615 - val_accuracy: 0.0027\n",
            "Epoch 2/50\n",
            "2116/2116 [==============================] - 31s 15ms/step - loss: 6.2360 - accuracy: 0.0045 - val_loss: 6.2597 - val_accuracy: 0.0030\n",
            "Epoch 3/50\n",
            "2116/2116 [==============================] - 31s 15ms/step - loss: 5.9765 - accuracy: 0.0139 - val_loss: 5.6298 - val_accuracy: 0.0334\n",
            "Epoch 4/50\n",
            "2116/2116 [==============================] - 31s 15ms/step - loss: 5.3922 - accuracy: 0.0571 - val_loss: 5.1501 - val_accuracy: 0.0804\n",
            "Epoch 5/50\n",
            "2116/2116 [==============================] - 31s 15ms/step - loss: 4.6658 - accuracy: 0.1331 - val_loss: 4.6399 - val_accuracy: 0.1501\n",
            "Epoch 6/50\n",
            "2116/2116 [==============================] - 31s 15ms/step - loss: 3.9343 - accuracy: 0.2267 - val_loss: 4.6718 - val_accuracy: 0.1795\n",
            "Epoch 7/50\n",
            "2116/2116 [==============================] - 31s 15ms/step - loss: 3.3126 - accuracy: 0.3236 - val_loss: 4.8521 - val_accuracy: 0.1839\n",
            "Epoch 8/50\n",
            "2065/2116 [============================>.] - ETA: 0s - loss: 2.8786 - accuracy: 0.3923"
          ]
        },
        {
          "output_type": "error",
          "ename": "KeyboardInterrupt",
          "evalue": "ignored",
          "traceback": [
            "\u001b[0;31m---------------------------------------------------------------------------\u001b[0m",
            "\u001b[0;31mKeyboardInterrupt\u001b[0m                         Traceback (most recent call last)",
            "\u001b[0;32m<ipython-input-13-43091e144d61>\u001b[0m in \u001b[0;36m<cell line: 1>\u001b[0;34m()\u001b[0m\n\u001b[0;32m----> 1\u001b[0;31m \u001b[0mmodel\u001b[0m\u001b[0;34m.\u001b[0m\u001b[0mfit\u001b[0m\u001b[0;34m(\u001b[0m\u001b[0mtrain_ds\u001b[0m\u001b[0;34m,\u001b[0m \u001b[0mepochs\u001b[0m\u001b[0;34m=\u001b[0m\u001b[0;36m50\u001b[0m\u001b[0;34m,\u001b[0m \u001b[0mvalidation_data\u001b[0m\u001b[0;34m=\u001b[0m\u001b[0mval_ds\u001b[0m\u001b[0;34m)\u001b[0m\u001b[0;34m\u001b[0m\u001b[0;34m\u001b[0m\u001b[0m\n\u001b[0m",
            "\u001b[0;32m/usr/local/lib/python3.10/dist-packages/keras/utils/traceback_utils.py\u001b[0m in \u001b[0;36merror_handler\u001b[0;34m(*args, **kwargs)\u001b[0m\n\u001b[1;32m     63\u001b[0m         \u001b[0mfiltered_tb\u001b[0m \u001b[0;34m=\u001b[0m \u001b[0;32mNone\u001b[0m\u001b[0;34m\u001b[0m\u001b[0;34m\u001b[0m\u001b[0m\n\u001b[1;32m     64\u001b[0m         \u001b[0;32mtry\u001b[0m\u001b[0;34m:\u001b[0m\u001b[0;34m\u001b[0m\u001b[0;34m\u001b[0m\u001b[0m\n\u001b[0;32m---> 65\u001b[0;31m             \u001b[0;32mreturn\u001b[0m \u001b[0mfn\u001b[0m\u001b[0;34m(\u001b[0m\u001b[0;34m*\u001b[0m\u001b[0margs\u001b[0m\u001b[0;34m,\u001b[0m \u001b[0;34m**\u001b[0m\u001b[0mkwargs\u001b[0m\u001b[0;34m)\u001b[0m\u001b[0;34m\u001b[0m\u001b[0;34m\u001b[0m\u001b[0m\n\u001b[0m\u001b[1;32m     66\u001b[0m         \u001b[0;32mexcept\u001b[0m \u001b[0mException\u001b[0m \u001b[0;32mas\u001b[0m \u001b[0me\u001b[0m\u001b[0;34m:\u001b[0m\u001b[0;34m\u001b[0m\u001b[0;34m\u001b[0m\u001b[0m\n\u001b[1;32m     67\u001b[0m             \u001b[0mfiltered_tb\u001b[0m \u001b[0;34m=\u001b[0m \u001b[0m_process_traceback_frames\u001b[0m\u001b[0;34m(\u001b[0m\u001b[0me\u001b[0m\u001b[0;34m.\u001b[0m\u001b[0m__traceback__\u001b[0m\u001b[0;34m)\u001b[0m\u001b[0;34m\u001b[0m\u001b[0;34m\u001b[0m\u001b[0m\n",
            "\u001b[0;32m/usr/local/lib/python3.10/dist-packages/keras/engine/training.py\u001b[0m in \u001b[0;36mfit\u001b[0;34m(self, x, y, batch_size, epochs, verbose, callbacks, validation_split, validation_data, shuffle, class_weight, sample_weight, initial_epoch, steps_per_epoch, validation_steps, validation_batch_size, validation_freq, max_queue_size, workers, use_multiprocessing)\u001b[0m\n\u001b[1;32m   1689\u001b[0m                             \u001b[0mlogs\u001b[0m \u001b[0;34m=\u001b[0m \u001b[0mtmp_logs\u001b[0m\u001b[0;34m\u001b[0m\u001b[0;34m\u001b[0m\u001b[0m\n\u001b[1;32m   1690\u001b[0m                             \u001b[0mend_step\u001b[0m \u001b[0;34m=\u001b[0m \u001b[0mstep\u001b[0m \u001b[0;34m+\u001b[0m \u001b[0mdata_handler\u001b[0m\u001b[0;34m.\u001b[0m\u001b[0mstep_increment\u001b[0m\u001b[0;34m\u001b[0m\u001b[0;34m\u001b[0m\u001b[0m\n\u001b[0;32m-> 1691\u001b[0;31m                             \u001b[0mcallbacks\u001b[0m\u001b[0;34m.\u001b[0m\u001b[0mon_train_batch_end\u001b[0m\u001b[0;34m(\u001b[0m\u001b[0mend_step\u001b[0m\u001b[0;34m,\u001b[0m \u001b[0mlogs\u001b[0m\u001b[0;34m)\u001b[0m\u001b[0;34m\u001b[0m\u001b[0;34m\u001b[0m\u001b[0m\n\u001b[0m\u001b[1;32m   1692\u001b[0m                             \u001b[0;32mif\u001b[0m \u001b[0mself\u001b[0m\u001b[0;34m.\u001b[0m\u001b[0mstop_training\u001b[0m\u001b[0;34m:\u001b[0m\u001b[0;34m\u001b[0m\u001b[0;34m\u001b[0m\u001b[0m\n\u001b[1;32m   1693\u001b[0m                                 \u001b[0;32mbreak\u001b[0m\u001b[0;34m\u001b[0m\u001b[0;34m\u001b[0m\u001b[0m\n",
            "\u001b[0;32m/usr/local/lib/python3.10/dist-packages/keras/callbacks.py\u001b[0m in \u001b[0;36mon_train_batch_end\u001b[0;34m(self, batch, logs)\u001b[0m\n\u001b[1;32m    473\u001b[0m         \"\"\"\n\u001b[1;32m    474\u001b[0m         \u001b[0;32mif\u001b[0m \u001b[0mself\u001b[0m\u001b[0;34m.\u001b[0m\u001b[0m_should_call_train_batch_hooks\u001b[0m\u001b[0;34m:\u001b[0m\u001b[0;34m\u001b[0m\u001b[0;34m\u001b[0m\u001b[0m\n\u001b[0;32m--> 475\u001b[0;31m             \u001b[0mself\u001b[0m\u001b[0;34m.\u001b[0m\u001b[0m_call_batch_hook\u001b[0m\u001b[0;34m(\u001b[0m\u001b[0mModeKeys\u001b[0m\u001b[0;34m.\u001b[0m\u001b[0mTRAIN\u001b[0m\u001b[0;34m,\u001b[0m \u001b[0;34m\"end\"\u001b[0m\u001b[0;34m,\u001b[0m \u001b[0mbatch\u001b[0m\u001b[0;34m,\u001b[0m \u001b[0mlogs\u001b[0m\u001b[0;34m=\u001b[0m\u001b[0mlogs\u001b[0m\u001b[0;34m)\u001b[0m\u001b[0;34m\u001b[0m\u001b[0;34m\u001b[0m\u001b[0m\n\u001b[0m\u001b[1;32m    476\u001b[0m \u001b[0;34m\u001b[0m\u001b[0m\n\u001b[1;32m    477\u001b[0m     \u001b[0;32mdef\u001b[0m \u001b[0mon_test_batch_begin\u001b[0m\u001b[0;34m(\u001b[0m\u001b[0mself\u001b[0m\u001b[0;34m,\u001b[0m \u001b[0mbatch\u001b[0m\u001b[0;34m,\u001b[0m \u001b[0mlogs\u001b[0m\u001b[0;34m=\u001b[0m\u001b[0;32mNone\u001b[0m\u001b[0;34m)\u001b[0m\u001b[0;34m:\u001b[0m\u001b[0;34m\u001b[0m\u001b[0;34m\u001b[0m\u001b[0m\n",
            "\u001b[0;32m/usr/local/lib/python3.10/dist-packages/keras/callbacks.py\u001b[0m in \u001b[0;36m_call_batch_hook\u001b[0;34m(self, mode, hook, batch, logs)\u001b[0m\n\u001b[1;32m    320\u001b[0m             \u001b[0mself\u001b[0m\u001b[0;34m.\u001b[0m\u001b[0m_call_batch_begin_hook\u001b[0m\u001b[0;34m(\u001b[0m\u001b[0mmode\u001b[0m\u001b[0;34m,\u001b[0m \u001b[0mbatch\u001b[0m\u001b[0;34m,\u001b[0m \u001b[0mlogs\u001b[0m\u001b[0;34m)\u001b[0m\u001b[0;34m\u001b[0m\u001b[0;34m\u001b[0m\u001b[0m\n\u001b[1;32m    321\u001b[0m         \u001b[0;32melif\u001b[0m \u001b[0mhook\u001b[0m \u001b[0;34m==\u001b[0m \u001b[0;34m\"end\"\u001b[0m\u001b[0;34m:\u001b[0m\u001b[0;34m\u001b[0m\u001b[0;34m\u001b[0m\u001b[0m\n\u001b[0;32m--> 322\u001b[0;31m             \u001b[0mself\u001b[0m\u001b[0;34m.\u001b[0m\u001b[0m_call_batch_end_hook\u001b[0m\u001b[0;34m(\u001b[0m\u001b[0mmode\u001b[0m\u001b[0;34m,\u001b[0m \u001b[0mbatch\u001b[0m\u001b[0;34m,\u001b[0m \u001b[0mlogs\u001b[0m\u001b[0;34m)\u001b[0m\u001b[0;34m\u001b[0m\u001b[0;34m\u001b[0m\u001b[0m\n\u001b[0m\u001b[1;32m    323\u001b[0m         \u001b[0;32melse\u001b[0m\u001b[0;34m:\u001b[0m\u001b[0;34m\u001b[0m\u001b[0;34m\u001b[0m\u001b[0m\n\u001b[1;32m    324\u001b[0m             raise ValueError(\n",
            "\u001b[0;32m/usr/local/lib/python3.10/dist-packages/keras/callbacks.py\u001b[0m in \u001b[0;36m_call_batch_end_hook\u001b[0;34m(self, mode, batch, logs)\u001b[0m\n\u001b[1;32m    343\u001b[0m             \u001b[0mself\u001b[0m\u001b[0;34m.\u001b[0m\u001b[0m_batch_times\u001b[0m\u001b[0;34m.\u001b[0m\u001b[0mappend\u001b[0m\u001b[0;34m(\u001b[0m\u001b[0mbatch_time\u001b[0m\u001b[0;34m)\u001b[0m\u001b[0;34m\u001b[0m\u001b[0;34m\u001b[0m\u001b[0m\n\u001b[1;32m    344\u001b[0m \u001b[0;34m\u001b[0m\u001b[0m\n\u001b[0;32m--> 345\u001b[0;31m         \u001b[0mself\u001b[0m\u001b[0;34m.\u001b[0m\u001b[0m_call_batch_hook_helper\u001b[0m\u001b[0;34m(\u001b[0m\u001b[0mhook_name\u001b[0m\u001b[0;34m,\u001b[0m \u001b[0mbatch\u001b[0m\u001b[0;34m,\u001b[0m \u001b[0mlogs\u001b[0m\u001b[0;34m)\u001b[0m\u001b[0;34m\u001b[0m\u001b[0;34m\u001b[0m\u001b[0m\n\u001b[0m\u001b[1;32m    346\u001b[0m \u001b[0;34m\u001b[0m\u001b[0m\n\u001b[1;32m    347\u001b[0m         \u001b[0;32mif\u001b[0m \u001b[0mlen\u001b[0m\u001b[0;34m(\u001b[0m\u001b[0mself\u001b[0m\u001b[0;34m.\u001b[0m\u001b[0m_batch_times\u001b[0m\u001b[0;34m)\u001b[0m \u001b[0;34m>=\u001b[0m \u001b[0mself\u001b[0m\u001b[0;34m.\u001b[0m\u001b[0m_num_batches_for_timing_check\u001b[0m\u001b[0;34m:\u001b[0m\u001b[0;34m\u001b[0m\u001b[0;34m\u001b[0m\u001b[0m\n",
            "\u001b[0;32m/usr/local/lib/python3.10/dist-packages/keras/callbacks.py\u001b[0m in \u001b[0;36m_call_batch_hook_helper\u001b[0;34m(self, hook_name, batch, logs)\u001b[0m\n\u001b[1;32m    391\u001b[0m         \u001b[0;32mfor\u001b[0m \u001b[0mcallback\u001b[0m \u001b[0;32min\u001b[0m \u001b[0mself\u001b[0m\u001b[0;34m.\u001b[0m\u001b[0mcallbacks\u001b[0m\u001b[0;34m:\u001b[0m\u001b[0;34m\u001b[0m\u001b[0;34m\u001b[0m\u001b[0m\n\u001b[1;32m    392\u001b[0m             \u001b[0mhook\u001b[0m \u001b[0;34m=\u001b[0m \u001b[0mgetattr\u001b[0m\u001b[0;34m(\u001b[0m\u001b[0mcallback\u001b[0m\u001b[0;34m,\u001b[0m \u001b[0mhook_name\u001b[0m\u001b[0;34m)\u001b[0m\u001b[0;34m\u001b[0m\u001b[0;34m\u001b[0m\u001b[0m\n\u001b[0;32m--> 393\u001b[0;31m             \u001b[0mhook\u001b[0m\u001b[0;34m(\u001b[0m\u001b[0mbatch\u001b[0m\u001b[0;34m,\u001b[0m \u001b[0mlogs\u001b[0m\u001b[0;34m)\u001b[0m\u001b[0;34m\u001b[0m\u001b[0;34m\u001b[0m\u001b[0m\n\u001b[0m\u001b[1;32m    394\u001b[0m \u001b[0;34m\u001b[0m\u001b[0m\n\u001b[1;32m    395\u001b[0m         \u001b[0;32mif\u001b[0m \u001b[0mself\u001b[0m\u001b[0;34m.\u001b[0m\u001b[0m_check_timing\u001b[0m\u001b[0;34m:\u001b[0m\u001b[0;34m\u001b[0m\u001b[0;34m\u001b[0m\u001b[0m\n",
            "\u001b[0;32m/usr/local/lib/python3.10/dist-packages/keras/callbacks.py\u001b[0m in \u001b[0;36mon_train_batch_end\u001b[0;34m(self, batch, logs)\u001b[0m\n\u001b[1;32m   1091\u001b[0m \u001b[0;34m\u001b[0m\u001b[0m\n\u001b[1;32m   1092\u001b[0m     \u001b[0;32mdef\u001b[0m \u001b[0mon_train_batch_end\u001b[0m\u001b[0;34m(\u001b[0m\u001b[0mself\u001b[0m\u001b[0;34m,\u001b[0m \u001b[0mbatch\u001b[0m\u001b[0;34m,\u001b[0m \u001b[0mlogs\u001b[0m\u001b[0;34m=\u001b[0m\u001b[0;32mNone\u001b[0m\u001b[0;34m)\u001b[0m\u001b[0;34m:\u001b[0m\u001b[0;34m\u001b[0m\u001b[0;34m\u001b[0m\u001b[0m\n\u001b[0;32m-> 1093\u001b[0;31m         \u001b[0mself\u001b[0m\u001b[0;34m.\u001b[0m\u001b[0m_batch_update_progbar\u001b[0m\u001b[0;34m(\u001b[0m\u001b[0mbatch\u001b[0m\u001b[0;34m,\u001b[0m \u001b[0mlogs\u001b[0m\u001b[0;34m)\u001b[0m\u001b[0;34m\u001b[0m\u001b[0;34m\u001b[0m\u001b[0m\n\u001b[0m\u001b[1;32m   1094\u001b[0m \u001b[0;34m\u001b[0m\u001b[0m\n\u001b[1;32m   1095\u001b[0m     \u001b[0;32mdef\u001b[0m \u001b[0mon_test_batch_end\u001b[0m\u001b[0;34m(\u001b[0m\u001b[0mself\u001b[0m\u001b[0;34m,\u001b[0m \u001b[0mbatch\u001b[0m\u001b[0;34m,\u001b[0m \u001b[0mlogs\u001b[0m\u001b[0;34m=\u001b[0m\u001b[0;32mNone\u001b[0m\u001b[0;34m)\u001b[0m\u001b[0;34m:\u001b[0m\u001b[0;34m\u001b[0m\u001b[0;34m\u001b[0m\u001b[0m\n",
            "\u001b[0;32m/usr/local/lib/python3.10/dist-packages/keras/callbacks.py\u001b[0m in \u001b[0;36m_batch_update_progbar\u001b[0;34m(self, batch, logs)\u001b[0m\n\u001b[1;32m   1167\u001b[0m         \u001b[0;32mif\u001b[0m \u001b[0mself\u001b[0m\u001b[0;34m.\u001b[0m\u001b[0mverbose\u001b[0m \u001b[0;34m==\u001b[0m \u001b[0;36m1\u001b[0m\u001b[0;34m:\u001b[0m\u001b[0;34m\u001b[0m\u001b[0;34m\u001b[0m\u001b[0m\n\u001b[1;32m   1168\u001b[0m             \u001b[0;31m# Only block async when verbose = 1.\u001b[0m\u001b[0;34m\u001b[0m\u001b[0;34m\u001b[0m\u001b[0m\n\u001b[0;32m-> 1169\u001b[0;31m             \u001b[0mlogs\u001b[0m \u001b[0;34m=\u001b[0m \u001b[0mtf_utils\u001b[0m\u001b[0;34m.\u001b[0m\u001b[0msync_to_numpy_or_python_type\u001b[0m\u001b[0;34m(\u001b[0m\u001b[0mlogs\u001b[0m\u001b[0;34m)\u001b[0m\u001b[0;34m\u001b[0m\u001b[0;34m\u001b[0m\u001b[0m\n\u001b[0m\u001b[1;32m   1170\u001b[0m             \u001b[0mself\u001b[0m\u001b[0;34m.\u001b[0m\u001b[0mprogbar\u001b[0m\u001b[0;34m.\u001b[0m\u001b[0mupdate\u001b[0m\u001b[0;34m(\u001b[0m\u001b[0mself\u001b[0m\u001b[0;34m.\u001b[0m\u001b[0mseen\u001b[0m\u001b[0;34m,\u001b[0m \u001b[0mlist\u001b[0m\u001b[0;34m(\u001b[0m\u001b[0mlogs\u001b[0m\u001b[0;34m.\u001b[0m\u001b[0mitems\u001b[0m\u001b[0;34m(\u001b[0m\u001b[0;34m)\u001b[0m\u001b[0;34m)\u001b[0m\u001b[0;34m,\u001b[0m \u001b[0mfinalize\u001b[0m\u001b[0;34m=\u001b[0m\u001b[0;32mFalse\u001b[0m\u001b[0;34m)\u001b[0m\u001b[0;34m\u001b[0m\u001b[0;34m\u001b[0m\u001b[0m\n\u001b[1;32m   1171\u001b[0m \u001b[0;34m\u001b[0m\u001b[0m\n",
            "\u001b[0;32m/usr/local/lib/python3.10/dist-packages/keras/utils/tf_utils.py\u001b[0m in \u001b[0;36msync_to_numpy_or_python_type\u001b[0;34m(tensors)\u001b[0m\n\u001b[1;32m    678\u001b[0m         \u001b[0;32mreturn\u001b[0m \u001b[0mt\u001b[0m\u001b[0;34m.\u001b[0m\u001b[0mitem\u001b[0m\u001b[0;34m(\u001b[0m\u001b[0;34m)\u001b[0m \u001b[0;32mif\u001b[0m \u001b[0mnp\u001b[0m\u001b[0;34m.\u001b[0m\u001b[0mndim\u001b[0m\u001b[0;34m(\u001b[0m\u001b[0mt\u001b[0m\u001b[0;34m)\u001b[0m \u001b[0;34m==\u001b[0m \u001b[0;36m0\u001b[0m \u001b[0;32melse\u001b[0m \u001b[0mt\u001b[0m\u001b[0;34m\u001b[0m\u001b[0;34m\u001b[0m\u001b[0m\n\u001b[1;32m    679\u001b[0m \u001b[0;34m\u001b[0m\u001b[0m\n\u001b[0;32m--> 680\u001b[0;31m     \u001b[0;32mreturn\u001b[0m \u001b[0mtf\u001b[0m\u001b[0;34m.\u001b[0m\u001b[0mnest\u001b[0m\u001b[0;34m.\u001b[0m\u001b[0mmap_structure\u001b[0m\u001b[0;34m(\u001b[0m\u001b[0m_to_single_numpy_or_python_type\u001b[0m\u001b[0;34m,\u001b[0m \u001b[0mtensors\u001b[0m\u001b[0;34m)\u001b[0m\u001b[0;34m\u001b[0m\u001b[0;34m\u001b[0m\u001b[0m\n\u001b[0m\u001b[1;32m    681\u001b[0m \u001b[0;34m\u001b[0m\u001b[0m\n\u001b[1;32m    682\u001b[0m \u001b[0;34m\u001b[0m\u001b[0m\n",
            "\u001b[0;32m/usr/local/lib/python3.10/dist-packages/tensorflow/python/util/nest.py\u001b[0m in \u001b[0;36mmap_structure\u001b[0;34m(func, *structure, **kwargs)\u001b[0m\n\u001b[1;32m    915\u001b[0m \u001b[0;34m\u001b[0m\u001b[0m\n\u001b[1;32m    916\u001b[0m   return pack_sequence_as(\n\u001b[0;32m--> 917\u001b[0;31m       \u001b[0mstructure\u001b[0m\u001b[0;34m[\u001b[0m\u001b[0;36m0\u001b[0m\u001b[0;34m]\u001b[0m\u001b[0;34m,\u001b[0m \u001b[0;34m[\u001b[0m\u001b[0mfunc\u001b[0m\u001b[0;34m(\u001b[0m\u001b[0;34m*\u001b[0m\u001b[0mx\u001b[0m\u001b[0;34m)\u001b[0m \u001b[0;32mfor\u001b[0m \u001b[0mx\u001b[0m \u001b[0;32min\u001b[0m \u001b[0mentries\u001b[0m\u001b[0;34m]\u001b[0m\u001b[0;34m,\u001b[0m\u001b[0;34m\u001b[0m\u001b[0;34m\u001b[0m\u001b[0m\n\u001b[0m\u001b[1;32m    918\u001b[0m       expand_composites=expand_composites)\n\u001b[1;32m    919\u001b[0m \u001b[0;34m\u001b[0m\u001b[0m\n",
            "\u001b[0;32m/usr/local/lib/python3.10/dist-packages/tensorflow/python/util/nest.py\u001b[0m in \u001b[0;36m<listcomp>\u001b[0;34m(.0)\u001b[0m\n\u001b[1;32m    915\u001b[0m \u001b[0;34m\u001b[0m\u001b[0m\n\u001b[1;32m    916\u001b[0m   return pack_sequence_as(\n\u001b[0;32m--> 917\u001b[0;31m       \u001b[0mstructure\u001b[0m\u001b[0;34m[\u001b[0m\u001b[0;36m0\u001b[0m\u001b[0;34m]\u001b[0m\u001b[0;34m,\u001b[0m \u001b[0;34m[\u001b[0m\u001b[0mfunc\u001b[0m\u001b[0;34m(\u001b[0m\u001b[0;34m*\u001b[0m\u001b[0mx\u001b[0m\u001b[0;34m)\u001b[0m \u001b[0;32mfor\u001b[0m \u001b[0mx\u001b[0m \u001b[0;32min\u001b[0m \u001b[0mentries\u001b[0m\u001b[0;34m]\u001b[0m\u001b[0;34m,\u001b[0m\u001b[0;34m\u001b[0m\u001b[0;34m\u001b[0m\u001b[0m\n\u001b[0m\u001b[1;32m    918\u001b[0m       expand_composites=expand_composites)\n\u001b[1;32m    919\u001b[0m \u001b[0;34m\u001b[0m\u001b[0m\n",
            "\u001b[0;32m/usr/local/lib/python3.10/dist-packages/keras/utils/tf_utils.py\u001b[0m in \u001b[0;36m_to_single_numpy_or_python_type\u001b[0;34m(t)\u001b[0m\n\u001b[1;32m    671\u001b[0m         \u001b[0;31m# Don't turn ragged or sparse tensors to NumPy.\u001b[0m\u001b[0;34m\u001b[0m\u001b[0;34m\u001b[0m\u001b[0m\n\u001b[1;32m    672\u001b[0m         \u001b[0;32mif\u001b[0m \u001b[0misinstance\u001b[0m\u001b[0;34m(\u001b[0m\u001b[0mt\u001b[0m\u001b[0;34m,\u001b[0m \u001b[0mtf\u001b[0m\u001b[0;34m.\u001b[0m\u001b[0mTensor\u001b[0m\u001b[0;34m)\u001b[0m\u001b[0;34m:\u001b[0m\u001b[0;34m\u001b[0m\u001b[0;34m\u001b[0m\u001b[0m\n\u001b[0;32m--> 673\u001b[0;31m             \u001b[0mt\u001b[0m \u001b[0;34m=\u001b[0m \u001b[0mt\u001b[0m\u001b[0;34m.\u001b[0m\u001b[0mnumpy\u001b[0m\u001b[0;34m(\u001b[0m\u001b[0;34m)\u001b[0m\u001b[0;34m\u001b[0m\u001b[0;34m\u001b[0m\u001b[0m\n\u001b[0m\u001b[1;32m    674\u001b[0m         \u001b[0;31m# Strings, ragged and sparse tensors don't have .item(). Return them\u001b[0m\u001b[0;34m\u001b[0m\u001b[0;34m\u001b[0m\u001b[0m\n\u001b[1;32m    675\u001b[0m         \u001b[0;31m# as-is.\u001b[0m\u001b[0;34m\u001b[0m\u001b[0;34m\u001b[0m\u001b[0m\n",
            "\u001b[0;32m/usr/local/lib/python3.10/dist-packages/tensorflow/python/framework/ops.py\u001b[0m in \u001b[0;36mnumpy\u001b[0;34m(self)\u001b[0m\n\u001b[1;32m   1158\u001b[0m     \"\"\"\n\u001b[1;32m   1159\u001b[0m     \u001b[0;31m# TODO(slebedev): Consider avoiding a copy for non-CPU or remote tensors.\u001b[0m\u001b[0;34m\u001b[0m\u001b[0;34m\u001b[0m\u001b[0m\n\u001b[0;32m-> 1160\u001b[0;31m     \u001b[0mmaybe_arr\u001b[0m \u001b[0;34m=\u001b[0m \u001b[0mself\u001b[0m\u001b[0;34m.\u001b[0m\u001b[0m_numpy\u001b[0m\u001b[0;34m(\u001b[0m\u001b[0;34m)\u001b[0m  \u001b[0;31m# pylint: disable=protected-access\u001b[0m\u001b[0;34m\u001b[0m\u001b[0;34m\u001b[0m\u001b[0m\n\u001b[0m\u001b[1;32m   1161\u001b[0m     \u001b[0;32mreturn\u001b[0m \u001b[0mmaybe_arr\u001b[0m\u001b[0;34m.\u001b[0m\u001b[0mcopy\u001b[0m\u001b[0;34m(\u001b[0m\u001b[0;34m)\u001b[0m \u001b[0;32mif\u001b[0m \u001b[0misinstance\u001b[0m\u001b[0;34m(\u001b[0m\u001b[0mmaybe_arr\u001b[0m\u001b[0;34m,\u001b[0m \u001b[0mnp\u001b[0m\u001b[0;34m.\u001b[0m\u001b[0mndarray\u001b[0m\u001b[0;34m)\u001b[0m \u001b[0;32melse\u001b[0m \u001b[0mmaybe_arr\u001b[0m\u001b[0;34m\u001b[0m\u001b[0;34m\u001b[0m\u001b[0m\n\u001b[1;32m   1162\u001b[0m \u001b[0;34m\u001b[0m\u001b[0m\n",
            "\u001b[0;32m/usr/local/lib/python3.10/dist-packages/tensorflow/python/framework/ops.py\u001b[0m in \u001b[0;36m_numpy\u001b[0;34m(self)\u001b[0m\n\u001b[1;32m   1124\u001b[0m   \u001b[0;32mdef\u001b[0m \u001b[0m_numpy\u001b[0m\u001b[0;34m(\u001b[0m\u001b[0mself\u001b[0m\u001b[0;34m)\u001b[0m\u001b[0;34m:\u001b[0m\u001b[0;34m\u001b[0m\u001b[0;34m\u001b[0m\u001b[0m\n\u001b[1;32m   1125\u001b[0m     \u001b[0;32mtry\u001b[0m\u001b[0;34m:\u001b[0m\u001b[0;34m\u001b[0m\u001b[0;34m\u001b[0m\u001b[0m\n\u001b[0;32m-> 1126\u001b[0;31m       \u001b[0;32mreturn\u001b[0m \u001b[0mself\u001b[0m\u001b[0;34m.\u001b[0m\u001b[0m_numpy_internal\u001b[0m\u001b[0;34m(\u001b[0m\u001b[0;34m)\u001b[0m\u001b[0;34m\u001b[0m\u001b[0;34m\u001b[0m\u001b[0m\n\u001b[0m\u001b[1;32m   1127\u001b[0m     \u001b[0;32mexcept\u001b[0m \u001b[0mcore\u001b[0m\u001b[0;34m.\u001b[0m\u001b[0m_NotOkStatusException\u001b[0m \u001b[0;32mas\u001b[0m \u001b[0me\u001b[0m\u001b[0;34m:\u001b[0m  \u001b[0;31m# pylint: disable=protected-access\u001b[0m\u001b[0;34m\u001b[0m\u001b[0;34m\u001b[0m\u001b[0m\n\u001b[1;32m   1128\u001b[0m       \u001b[0;32mraise\u001b[0m \u001b[0mcore\u001b[0m\u001b[0;34m.\u001b[0m\u001b[0m_status_to_exception\u001b[0m\u001b[0;34m(\u001b[0m\u001b[0me\u001b[0m\u001b[0;34m)\u001b[0m \u001b[0;32mfrom\u001b[0m \u001b[0;32mNone\u001b[0m  \u001b[0;31m# pylint: disable=protected-access\u001b[0m\u001b[0;34m\u001b[0m\u001b[0;34m\u001b[0m\u001b[0m\n",
            "\u001b[0;31mKeyboardInterrupt\u001b[0m: "
          ]
        }
      ]
    },
    {
      "cell_type": "markdown",
      "source": [
        "# 1 RESNET"
      ],
      "metadata": {
        "id": "gA26whVWT1Kc"
      }
    },
    {
      "cell_type": "code",
      "source": [
        "\n",
        "\n",
        "input = keras.layers.Input(shape=(img_height, img_width, 3))\n",
        "rescale = keras.layers.Rescaling(1.0 / 255)(input)\n",
        "conv_in = keras.layers.Conv2D(\n",
        "    filters=64, kernel_size=(7, 7), strides=(2, 2), activation=\"relu\"\n",
        ")(rescale)\n",
        "pool_in = keras.layers.MaxPooling2D(pool_size=(3, 3), strides=(2, 2), padding = \"same\")(conv_in)\n",
        "conv_r1_1 = keras.layers.Conv2D(64, 3, 1, padding = \"same\")(pool_in)\n",
        "bn_r1_1 = keras.layers.BatchNormalization()(conv_r1_1)\n",
        "relu_r1_1 = keras.layers.ReLU()(bn_r1_1)\n",
        "conv_r1_2 = keras.layers.Conv2D(64, 3, 1, padding = \"same\")(relu_r1_1)\n",
        "bn_r1_2 = keras.layers.BatchNormalization()(conv_r1_2)\n",
        "skip_r1 = keras.layers.Add()([bn_r1_2, pool_in])\n",
        "relu_r1_2 = keras.layers.ReLU()(skip_r1)\n",
        "pool_out = keras.layers.GlobalAveragePooling2D()(relu_r1_2)\n",
        "dense_out = keras.layers.Dense(512, activation=\"relu\")(pool_out)\n",
        "output = keras.layers.Dense(num_classes, activation=\"softmax\")(dense_out)\n",
        "\n",
        "resnet18 = keras.Model(inputs=input, outputs=output)\n",
        "\n",
        "\n",
        "\n",
        "\n",
        "\n",
        "\n",
        "\n",
        "resnet18.compile(optimizer=keras.optimizers.SGD(learning_rate=1), loss='sparse_categorical_crossentropy', metrics=['accuracy'])"
      ],
      "metadata": {
        "id": "VfdSjar622uo"
      },
      "execution_count": null,
      "outputs": []
    },
    {
      "cell_type": "code",
      "source": [
        "resnet18.summary()"
      ],
      "metadata": {
        "colab": {
          "base_uri": "https://localhost:8080/"
        },
        "id": "njelo4CZ6Blr",
        "outputId": "29ab7346-a478-4360-b57a-269b28d7cbe2"
      },
      "execution_count": null,
      "outputs": [
        {
          "output_type": "stream",
          "name": "stdout",
          "text": [
            "Model: \"model\"\n",
            "__________________________________________________________________________________________________\n",
            " Layer (type)                   Output Shape         Param #     Connected to                     \n",
            "==================================================================================================\n",
            " input_1 (InputLayer)           [(None, 224, 224, 3  0           []                               \n",
            "                                )]                                                                \n",
            "                                                                                                  \n",
            " rescaling (Rescaling)          (None, 224, 224, 3)  0           ['input_1[0][0]']                \n",
            "                                                                                                  \n",
            " conv2d_4 (Conv2D)              (None, 109, 109, 64  9472        ['rescaling[0][0]']              \n",
            "                                )                                                                 \n",
            "                                                                                                  \n",
            " max_pooling2d_4 (MaxPooling2D)  (None, 55, 55, 64)  0           ['conv2d_4[0][0]']               \n",
            "                                                                                                  \n",
            " conv2d_5 (Conv2D)              (None, 55, 55, 64)   36928       ['max_pooling2d_4[0][0]']        \n",
            "                                                                                                  \n",
            " batch_normalization (BatchNorm  (None, 55, 55, 64)  256         ['conv2d_5[0][0]']               \n",
            " alization)                                                                                       \n",
            "                                                                                                  \n",
            " re_lu (ReLU)                   (None, 55, 55, 64)   0           ['batch_normalization[0][0]']    \n",
            "                                                                                                  \n",
            " conv2d_6 (Conv2D)              (None, 55, 55, 64)   36928       ['re_lu[0][0]']                  \n",
            "                                                                                                  \n",
            " batch_normalization_1 (BatchNo  (None, 55, 55, 64)  256         ['conv2d_6[0][0]']               \n",
            " rmalization)                                                                                     \n",
            "                                                                                                  \n",
            " add (Add)                      (None, 55, 55, 64)   0           ['batch_normalization_1[0][0]',  \n",
            "                                                                  'max_pooling2d_4[0][0]']        \n",
            "                                                                                                  \n",
            " re_lu_1 (ReLU)                 (None, 55, 55, 64)   0           ['add[0][0]']                    \n",
            "                                                                                                  \n",
            " global_average_pooling2d (Glob  (None, 64)          0           ['re_lu_1[0][0]']                \n",
            " alAveragePooling2D)                                                                              \n",
            "                                                                                                  \n",
            " dense_2 (Dense)                (None, 512)          33280       ['global_average_pooling2d[0][0]'\n",
            "                                                                 ]                                \n",
            "                                                                                                  \n",
            " dense_3 (Dense)                (None, 525)          269325      ['dense_2[0][0]']                \n",
            "                                                                                                  \n",
            "==================================================================================================\n",
            "Total params: 386,445\n",
            "Trainable params: 386,189\n",
            "Non-trainable params: 256\n",
            "__________________________________________________________________________________________________\n"
          ]
        }
      ]
    },
    {
      "cell_type": "code",
      "source": [
        "r = resnet18.fit(train_ds, validation_data=val_ds, epochs = 50, batch_size = batch_size)"
      ],
      "metadata": {
        "colab": {
          "base_uri": "https://localhost:8080/"
        },
        "id": "3WYTGHn63OtO",
        "outputId": "8436224d-7b65-44d4-9a06-9cbef4d1c315"
      },
      "execution_count": null,
      "outputs": [
        {
          "output_type": "stream",
          "name": "stdout",
          "text": [
            "Epoch 1/50\n",
            "2116/2116 [==============================] - 29s 13ms/step - loss: 5.6367 - accuracy: 0.0208 - val_loss: 6.0281 - val_accuracy: 0.0275\n",
            "Epoch 2/50\n",
            "2116/2116 [==============================] - 27s 13ms/step - loss: 4.7970 - accuracy: 0.0719 - val_loss: 5.8025 - val_accuracy: 0.0584\n",
            "Epoch 3/50\n",
            "2116/2116 [==============================] - 27s 13ms/step - loss: 4.2406 - accuracy: 0.1353 - val_loss: 5.2665 - val_accuracy: 0.0810\n",
            "Epoch 4/50\n",
            "2116/2116 [==============================] - 27s 13ms/step - loss: 3.8419 - accuracy: 0.1904 - val_loss: 3.8761 - val_accuracy: 0.1916\n",
            "Epoch 5/50\n",
            "2116/2116 [==============================] - 27s 13ms/step - loss: 3.5205 - accuracy: 0.2382 - val_loss: 3.8281 - val_accuracy: 0.2052\n",
            "Epoch 6/50\n",
            "2116/2116 [==============================] - 27s 13ms/step - loss: 3.2605 - accuracy: 0.2801 - val_loss: 3.5279 - val_accuracy: 0.2508\n",
            "Epoch 7/50\n",
            "2116/2116 [==============================] - 27s 13ms/step - loss: 3.0584 - accuracy: 0.3157 - val_loss: 3.7335 - val_accuracy: 0.2427\n",
            "Epoch 8/50\n",
            "2116/2116 [==============================] - 27s 13ms/step - loss: 2.8877 - accuracy: 0.3468 - val_loss: 3.7727 - val_accuracy: 0.2533\n",
            "Epoch 9/50\n",
            "2116/2116 [==============================] - 27s 13ms/step - loss: 2.7441 - accuracy: 0.3725 - val_loss: 4.0791 - val_accuracy: 0.2362\n",
            "Epoch 10/50\n",
            "2116/2116 [==============================] - 27s 13ms/step - loss: 2.6092 - accuracy: 0.3979 - val_loss: 4.6060 - val_accuracy: 0.1982\n",
            "Epoch 11/50\n",
            "2116/2116 [==============================] - 27s 13ms/step - loss: 2.4992 - accuracy: 0.4191 - val_loss: 3.6144 - val_accuracy: 0.2918\n",
            "Epoch 12/50\n",
            "2116/2116 [==============================] - 27s 13ms/step - loss: 2.3948 - accuracy: 0.4364 - val_loss: 3.4300 - val_accuracy: 0.3187\n",
            "Epoch 13/50\n",
            "2116/2116 [==============================] - 27s 13ms/step - loss: 2.3061 - accuracy: 0.4547 - val_loss: 3.6123 - val_accuracy: 0.3072\n",
            "Epoch 14/50\n",
            "2116/2116 [==============================] - 27s 13ms/step - loss: 2.2195 - accuracy: 0.4722 - val_loss: 3.5386 - val_accuracy: 0.3233\n",
            "Epoch 15/50\n",
            "2116/2116 [==============================] - 27s 13ms/step - loss: 2.1425 - accuracy: 0.4867 - val_loss: 3.7195 - val_accuracy: 0.3146\n",
            "Epoch 16/50\n",
            "2116/2116 [==============================] - 27s 13ms/step - loss: 2.0713 - accuracy: 0.5013 - val_loss: 3.8423 - val_accuracy: 0.3100\n",
            "Epoch 17/50\n",
            "2116/2116 [==============================] - 27s 13ms/step - loss: 2.0104 - accuracy: 0.5120 - val_loss: 3.5463 - val_accuracy: 0.3340\n",
            "Epoch 18/50\n",
            "2116/2116 [==============================] - 27s 13ms/step - loss: 1.9450 - accuracy: 0.5263 - val_loss: 3.3232 - val_accuracy: 0.3601\n",
            "Epoch 19/50\n",
            "2116/2116 [==============================] - 27s 13ms/step - loss: 1.8975 - accuracy: 0.5352 - val_loss: 3.1508 - val_accuracy: 0.3766\n",
            "Epoch 20/50\n",
            "2116/2116 [==============================] - 27s 13ms/step - loss: 1.8393 - accuracy: 0.5491 - val_loss: 3.1948 - val_accuracy: 0.3803\n",
            "Epoch 21/50\n",
            "2116/2116 [==============================] - 27s 13ms/step - loss: 1.7842 - accuracy: 0.5576 - val_loss: 3.2826 - val_accuracy: 0.3792\n",
            "Epoch 22/50\n",
            "2116/2116 [==============================] - 27s 13ms/step - loss: 1.7378 - accuracy: 0.5686 - val_loss: 3.1985 - val_accuracy: 0.3763\n",
            "Epoch 23/50\n",
            "2116/2116 [==============================] - 27s 13ms/step - loss: 1.7040 - accuracy: 0.5739 - val_loss: 3.3266 - val_accuracy: 0.3800\n",
            "Epoch 24/50\n",
            "2116/2116 [==============================] - 27s 13ms/step - loss: 1.6564 - accuracy: 0.5843 - val_loss: 3.2750 - val_accuracy: 0.3810\n",
            "Epoch 25/50\n",
            "2116/2116 [==============================] - 27s 13ms/step - loss: 1.6154 - accuracy: 0.5936 - val_loss: 3.2910 - val_accuracy: 0.3927\n",
            "Epoch 26/50\n",
            "2116/2116 [==============================] - 27s 13ms/step - loss: 1.5812 - accuracy: 0.5999 - val_loss: 3.3401 - val_accuracy: 0.3880\n",
            "Epoch 27/50\n",
            "2116/2116 [==============================] - 27s 13ms/step - loss: 1.5477 - accuracy: 0.6070 - val_loss: 3.5020 - val_accuracy: 0.3902\n",
            "Epoch 28/50\n",
            "2116/2116 [==============================] - 27s 13ms/step - loss: 1.5147 - accuracy: 0.6137 - val_loss: 3.3878 - val_accuracy: 0.4070\n",
            "Epoch 29/50\n",
            "2116/2116 [==============================] - 27s 13ms/step - loss: 1.4864 - accuracy: 0.6200 - val_loss: 3.5640 - val_accuracy: 0.3981\n",
            "Epoch 30/50\n",
            "2116/2116 [==============================] - 27s 13ms/step - loss: 1.4465 - accuracy: 0.6263 - val_loss: 3.6745 - val_accuracy: 0.3980\n",
            "Epoch 31/50\n",
            "2116/2116 [==============================] - 27s 13ms/step - loss: 1.4306 - accuracy: 0.6314 - val_loss: 3.8406 - val_accuracy: 0.3800\n",
            "Epoch 32/50\n",
            "2116/2116 [==============================] - 27s 13ms/step - loss: 1.4054 - accuracy: 0.6342 - val_loss: 4.1325 - val_accuracy: 0.3708\n",
            "Epoch 33/50\n",
            "2116/2116 [==============================] - 27s 13ms/step - loss: 1.3778 - accuracy: 0.6408 - val_loss: 3.6148 - val_accuracy: 0.4142\n",
            "Epoch 34/50\n",
            "2116/2116 [==============================] - 27s 13ms/step - loss: 1.3532 - accuracy: 0.6473 - val_loss: 4.3500 - val_accuracy: 0.3782\n",
            "Epoch 35/50\n",
            "2116/2116 [==============================] - 27s 13ms/step - loss: 1.3095 - accuracy: 0.6570 - val_loss: 4.0382 - val_accuracy: 0.3782\n",
            "Epoch 36/50\n",
            "2116/2116 [==============================] - 27s 13ms/step - loss: 1.3028 - accuracy: 0.6597 - val_loss: 3.7923 - val_accuracy: 0.4060\n",
            "Epoch 37/50\n",
            "2116/2116 [==============================] - 27s 13ms/step - loss: 1.2935 - accuracy: 0.6615 - val_loss: 4.2115 - val_accuracy: 0.3746\n",
            "Epoch 38/50\n",
            "2116/2116 [==============================] - 27s 13ms/step - loss: 1.2656 - accuracy: 0.6656 - val_loss: 3.9513 - val_accuracy: 0.4125\n",
            "Epoch 39/50\n",
            "2116/2116 [==============================] - 27s 13ms/step - loss: 1.2486 - accuracy: 0.6710 - val_loss: 4.0313 - val_accuracy: 0.4269\n",
            "Epoch 40/50\n",
            "2116/2116 [==============================] - 27s 13ms/step - loss: 1.2227 - accuracy: 0.6751 - val_loss: 4.3734 - val_accuracy: 0.3976\n",
            "Epoch 41/50\n",
            "2116/2116 [==============================] - 27s 13ms/step - loss: 1.1981 - accuracy: 0.6811 - val_loss: 4.4133 - val_accuracy: 0.4041\n",
            "Epoch 42/50\n",
            "2116/2116 [==============================] - 27s 13ms/step - loss: 1.1956 - accuracy: 0.6814 - val_loss: 4.2562 - val_accuracy: 0.4209\n",
            "Epoch 43/50\n",
            "2116/2116 [==============================] - 27s 13ms/step - loss: 1.1517 - accuracy: 0.6905 - val_loss: 4.2055 - val_accuracy: 0.4237\n",
            "Epoch 44/50\n",
            "2116/2116 [==============================] - 27s 13ms/step - loss: 1.1560 - accuracy: 0.6910 - val_loss: 4.3802 - val_accuracy: 0.4257\n",
            "Epoch 45/50\n",
            "2116/2116 [==============================] - 27s 13ms/step - loss: 1.1433 - accuracy: 0.6944 - val_loss: 4.3193 - val_accuracy: 0.4086\n",
            "Epoch 46/50\n",
            "2116/2116 [==============================] - 27s 13ms/step - loss: 1.1055 - accuracy: 0.7013 - val_loss: 5.5633 - val_accuracy: 0.3931\n",
            "Epoch 47/50\n",
            "2116/2116 [==============================] - 27s 13ms/step - loss: 1.1031 - accuracy: 0.7020 - val_loss: 4.2945 - val_accuracy: 0.4277\n",
            "Epoch 48/50\n",
            "2116/2116 [==============================] - 27s 13ms/step - loss: 1.0768 - accuracy: 0.7107 - val_loss: 5.1081 - val_accuracy: 0.3752\n",
            "Epoch 49/50\n",
            "2116/2116 [==============================] - 27s 13ms/step - loss: 1.0710 - accuracy: 0.7109 - val_loss: 5.6839 - val_accuracy: 0.3962\n",
            "Epoch 50/50\n",
            "2116/2116 [==============================] - 27s 13ms/step - loss: 1.0590 - accuracy: 0.7134 - val_loss: 5.2312 - val_accuracy: 0.4089\n"
          ]
        }
      ]
    },
    {
      "cell_type": "code",
      "source": [
        "resnet18.save(\"/content/drive/MyDrive/resnet18.h5\")"
      ],
      "metadata": {
        "id": "HrntqCVu3Ozl"
      },
      "execution_count": null,
      "outputs": []
    },
    {
      "cell_type": "markdown",
      "source": [
        "#2 RESNET"
      ],
      "metadata": {
        "id": "GabcFdJQTodx"
      }
    },
    {
      "cell_type": "code",
      "source": [
        "# arquitetura\n",
        "input = keras.layers.Input(shape=(img_height, img_width, 3))\n",
        "rescale = keras.layers.Rescaling(1.0 / 255)(input)\n",
        "conv_in = keras.layers.Conv2D(\n",
        "    filters=64, kernel_size=(7, 7), strides=(2, 2), activation=\"relu\"\n",
        ")(rescale)\n",
        "pool_in = keras.layers.MaxPooling2D(pool_size=(3, 3), strides=(2, 2), padding = \"same\")(conv_in)\n",
        "\n",
        "conv_r1_1 = keras.layers.Conv2D(64, 3, 1, padding = \"same\")(pool_in)\n",
        "bn_r1_1 = keras.layers.BatchNormalization()(conv_r1_1)\n",
        "relu_r1_1 = keras.layers.ReLU()(bn_r1_1)\n",
        "conv_r1_2 = keras.layers.Conv2D(64, 3, 1, padding = \"same\")(relu_r1_1)\n",
        "bn_r1_2 = keras.layers.BatchNormalization()(conv_r1_2)\n",
        "skip_r1 = keras.layers.Add()([bn_r1_2, pool_in])\n",
        "relu_r1_2 = keras.layers.ReLU()(skip_r1)\n",
        "\n",
        "conv_r2_1 = keras.layers.Conv2D(64, 3, 1, padding = \"same\")(relu_r1_2)\n",
        "bn_r2_1 = keras.layers.BatchNormalization()(conv_r2_1)\n",
        "relu_r2_1 = keras.layers.ReLU()(bn_r2_1)\n",
        "conv_r2_2 = keras.layers.Conv2D(64, 3, 1, padding = \"same\")(relu_r2_1)\n",
        "bn_r2_2 = keras.layers.BatchNormalization()(conv_r2_2)\n",
        "skip_r2 = keras.layers.Add()([bn_r2_2, relu_r1_2])\n",
        "relu_r2_2 = keras.layers.ReLU()(skip_r2)\n",
        "\n",
        "pool_out = keras.layers.GlobalAveragePooling2D()(relu_r2_2)\n",
        "dense_out = keras.layers.Dense(512, activation=\"relu\")(pool_out)\n",
        "output = keras.layers.Dense(num_classes, activation=\"softmax\")(dense_out)\n",
        "\n",
        "resnet18_2 = keras.Model(inputs=input, outputs=output)\n",
        "\n",
        "# parâmetros de otimização\n",
        "\n",
        "resnet18_2.compile(optimizer=keras.optimizers.SGD(learning_rate=1), loss='sparse_categorical_crossentropy', metrics=['accuracy'])\n",
        "\n",
        "# parâmetros de execução\n",
        "\n",
        "early_stopping = keras.callbacks.EarlyStopping(patience=10, restore_best_weights=True, start_from_epoch=10)\n",
        "\n"
      ],
      "metadata": {
        "id": "0tcRjSFK3O5f"
      },
      "execution_count": null,
      "outputs": []
    },
    {
      "cell_type": "code",
      "source": [
        "resnet18_2.summary()"
      ],
      "metadata": {
        "colab": {
          "base_uri": "https://localhost:8080/"
        },
        "id": "fDk1ODAW6gRI",
        "outputId": "790eb332-d049-43b4-9863-bd4f64168ba1"
      },
      "execution_count": null,
      "outputs": [
        {
          "output_type": "stream",
          "name": "stdout",
          "text": [
            "Model: \"model_1\"\n",
            "__________________________________________________________________________________________________\n",
            " Layer (type)                   Output Shape         Param #     Connected to                     \n",
            "==================================================================================================\n",
            " input_2 (InputLayer)           [(None, 224, 224, 3  0           []                               \n",
            "                                )]                                                                \n",
            "                                                                                                  \n",
            " rescaling_1 (Rescaling)        (None, 224, 224, 3)  0           ['input_2[0][0]']                \n",
            "                                                                                                  \n",
            " conv2d_7 (Conv2D)              (None, 109, 109, 64  9472        ['rescaling_1[0][0]']            \n",
            "                                )                                                                 \n",
            "                                                                                                  \n",
            " max_pooling2d_5 (MaxPooling2D)  (None, 55, 55, 64)  0           ['conv2d_7[0][0]']               \n",
            "                                                                                                  \n",
            " conv2d_8 (Conv2D)              (None, 55, 55, 64)   36928       ['max_pooling2d_5[0][0]']        \n",
            "                                                                                                  \n",
            " batch_normalization_2 (BatchNo  (None, 55, 55, 64)  256         ['conv2d_8[0][0]']               \n",
            " rmalization)                                                                                     \n",
            "                                                                                                  \n",
            " re_lu_2 (ReLU)                 (None, 55, 55, 64)   0           ['batch_normalization_2[0][0]']  \n",
            "                                                                                                  \n",
            " conv2d_9 (Conv2D)              (None, 55, 55, 64)   36928       ['re_lu_2[0][0]']                \n",
            "                                                                                                  \n",
            " batch_normalization_3 (BatchNo  (None, 55, 55, 64)  256         ['conv2d_9[0][0]']               \n",
            " rmalization)                                                                                     \n",
            "                                                                                                  \n",
            " add_1 (Add)                    (None, 55, 55, 64)   0           ['batch_normalization_3[0][0]',  \n",
            "                                                                  'max_pooling2d_5[0][0]']        \n",
            "                                                                                                  \n",
            " re_lu_3 (ReLU)                 (None, 55, 55, 64)   0           ['add_1[0][0]']                  \n",
            "                                                                                                  \n",
            " conv2d_10 (Conv2D)             (None, 55, 55, 64)   36928       ['re_lu_3[0][0]']                \n",
            "                                                                                                  \n",
            " batch_normalization_4 (BatchNo  (None, 55, 55, 64)  256         ['conv2d_10[0][0]']              \n",
            " rmalization)                                                                                     \n",
            "                                                                                                  \n",
            " re_lu_4 (ReLU)                 (None, 55, 55, 64)   0           ['batch_normalization_4[0][0]']  \n",
            "                                                                                                  \n",
            " conv2d_11 (Conv2D)             (None, 55, 55, 64)   36928       ['re_lu_4[0][0]']                \n",
            "                                                                                                  \n",
            " batch_normalization_5 (BatchNo  (None, 55, 55, 64)  256         ['conv2d_11[0][0]']              \n",
            " rmalization)                                                                                     \n",
            "                                                                                                  \n",
            " add_2 (Add)                    (None, 55, 55, 64)   0           ['batch_normalization_5[0][0]',  \n",
            "                                                                  're_lu_3[0][0]']                \n",
            "                                                                                                  \n",
            " re_lu_5 (ReLU)                 (None, 55, 55, 64)   0           ['add_2[0][0]']                  \n",
            "                                                                                                  \n",
            " global_average_pooling2d_1 (Gl  (None, 64)          0           ['re_lu_5[0][0]']                \n",
            " obalAveragePooling2D)                                                                            \n",
            "                                                                                                  \n",
            " dense_4 (Dense)                (None, 512)          33280       ['global_average_pooling2d_1[0][0\n",
            "                                                                 ]']                              \n",
            "                                                                                                  \n",
            " dense_5 (Dense)                (None, 525)          269325      ['dense_4[0][0]']                \n",
            "                                                                                                  \n",
            "==================================================================================================\n",
            "Total params: 460,813\n",
            "Trainable params: 460,301\n",
            "Non-trainable params: 512\n",
            "__________________________________________________________________________________________________\n"
          ]
        }
      ]
    },
    {
      "cell_type": "code",
      "source": [
        "r = resnet18_2.fit(train_ds, validation_data=val_ds, epochs = 50, batch_size = batch_size)"
      ],
      "metadata": {
        "id": "M9-xHQF_6cfY"
      },
      "execution_count": null,
      "outputs": []
    },
    {
      "cell_type": "markdown",
      "source": [
        "# MODELO INCEPTION V3"
      ],
      "metadata": {
        "id": "DMG3plkyR3ct"
      }
    },
    {
      "cell_type": "code",
      "source": [
        "# 1. Create a base model with tf.keras.applications\n",
        "\n",
        "base_model = keras.applications.InceptionV3(include_top= False,)\n",
        "\n",
        "# 2. Freeze the base model\n",
        "base_model.trainable = False\n",
        "\n",
        "#3. Create inputs into models\n",
        "inputs = keras.layers.Input(shape =(299,299,3), name = \"input-layer\")\n",
        "\n",
        "#4. Rescaling\n",
        "x0 = keras.layers.experimental.preprocessing.Rescaling(1/255.)(inputs)\n",
        "\n",
        "#5. Pass the inputs\n",
        "x = base_model(x0)\n",
        "print(f\"Shape after passing inputs through base model: {x.shape}\")\n",
        "\n",
        "# 6. Average pool the outputs of the base model\n",
        "x2 = keras.layers.GlobalAveragePooling2D(name = \"global_average_pooling_layer\")(x)\n",
        "print(f\"Shape after GlobalAveragePooling2D: {x.shape}\")\n",
        "\n",
        "#7. Create the output activation layer\n",
        "dense_out = keras.layers.Dense(1024, activation=\"relu\")(x2)\n",
        "outputs = keras.layers.Dense(num_classes, activation = \"softmax\", name = \"output-layer\")(dense_out)\n",
        "\n",
        "# 8. Combine the inputs with outputs into a model\n",
        "inceptionv3 = keras.Model(inputs, outputs)\n",
        "\n",
        "# 9. Compile the model\n",
        "inceptionv3.compile(loss = \"sparse_categorical_crossentropy\",\n",
        "                optimizer = keras.optimizers.Adam(learning_rate = 0.01),\n",
        "                metrics = [\"accuracy\"])\n",
        "\n",
        "early_stopping = keras.callbacks.EarlyStopping(patience=10, restore_best_weights=True, start_from_epoch=10)\n"
      ],
      "metadata": {
        "colab": {
          "base_uri": "https://localhost:8080/"
        },
        "id": "Zt3VcNAISPKY",
        "outputId": "3cf72ca6-7470-44db-f1e6-e8faf9ac9e90"
      },
      "execution_count": null,
      "outputs": [
        {
          "output_type": "stream",
          "name": "stdout",
          "text": [
            "Downloading data from https://storage.googleapis.com/tensorflow/keras-applications/inception_v3/inception_v3_weights_tf_dim_ordering_tf_kernels_notop.h5\n",
            "87910968/87910968 [==============================] - 5s 0us/step\n",
            "Shape after passing inputs through base model: (None, 8, 8, 2048)\n",
            "Shape after GlobalAveragePooling2D: (None, 8, 8, 2048)\n"
          ]
        }
      ]
    },
    {
      "cell_type": "code",
      "source": [
        "inceptionv3.summary()"
      ],
      "metadata": {
        "colab": {
          "base_uri": "https://localhost:8080/"
        },
        "id": "ltJV04JM7TUn",
        "outputId": "e938e17c-9c44-4f08-cac8-a1d6de7255f8"
      },
      "execution_count": null,
      "outputs": [
        {
          "output_type": "stream",
          "name": "stdout",
          "text": [
            "Model: \"model_2\"\n",
            "_________________________________________________________________\n",
            " Layer (type)                Output Shape              Param #   \n",
            "=================================================================\n",
            " input-layer (InputLayer)    [(None, 299, 299, 3)]     0         \n",
            "                                                                 \n",
            " rescaling_2 (Rescaling)     (None, 299, 299, 3)       0         \n",
            "                                                                 \n",
            " inception_v3 (Functional)   (None, None, None, 2048)  21802784  \n",
            "                                                                 \n",
            " global_average_pooling_laye  (None, 2048)             0         \n",
            " r (GlobalAveragePooling2D)                                      \n",
            "                                                                 \n",
            " dense_6 (Dense)             (None, 1024)              2098176   \n",
            "                                                                 \n",
            " output-layer (Dense)        (None, 525)               538125    \n",
            "                                                                 \n",
            "=================================================================\n",
            "Total params: 24,439,085\n",
            "Trainable params: 2,636,301\n",
            "Non-trainable params: 21,802,784\n",
            "_________________________________________________________________\n"
          ]
        }
      ]
    },
    {
      "cell_type": "code",
      "source": [
        "iv3 = inceptionv3.fit(train_ds,\n",
        "                      epochs=50,\n",
        "                      validation_data = val_ds,\n",
        "                      callbacks = [early_stopping])"
      ],
      "metadata": {
        "id": "ICD02NNd7MLy"
      },
      "execution_count": null,
      "outputs": []
    }
  ]
}